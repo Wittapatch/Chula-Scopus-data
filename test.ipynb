{
 "cells": [
  {
   "cell_type": "markdown",
   "id": "de41497f",
   "metadata": {},
   "source": [
    "# Extracting the data out of the zip"
   ]
  },
  {
   "cell_type": "code",
   "execution_count": 1,
   "id": "4737bff1",
   "metadata": {},
   "outputs": [],
   "source": [
    "import zipfile\n",
    "import json\n",
    "import sqlite3\n",
    "import pandas as pd\n",
    "\n",
    "conn = sqlite3.connect(\"scopus.db\")\n",
    "cur = conn.cursor()\n",
    "\n",
    "cur.execute(\"\"\"\n",
    "CREATE TABLE IF NOT EXISTS papers_raw (\n",
    "    file_id INTEGER,\n",
    "    year INTEGER,\n",
    "    raw_json TEXT\n",
    ")\n",
    "\"\"\")\n",
    "\n",
    "conn.commit()\n",
    "conn.close()\n",
    "\n",
    "keep = \"ScopusData2018-2023/2018/201800000\"\n",
    "zip_path = \"ScopusData2018-2023.zip\"\n",
    "years = [\"2018\", \"2019\", \"2020\", \"2021\", \"2022\", \"2023\"]\n",
    "\n",
    "def loader(year: int, start_id: int, end_id: int):\n",
    "    conn = sqlite3.connect(\"scopus.db\")\n",
    "    cur = conn.cursor()\n",
    "\n",
    "    with zipfile.ZipFile(zip_path, \"r\") as z:\n",
    "        for file_id in range(start_id, end_id + 1):\n",
    "            inner_path = f\"ScopusData2018-2023/{year}/{file_id}\"\n",
    "            try:\n",
    "                with z.open(inner_path) as f:\n",
    "                    try:\n",
    "                        obj = json.load(f)\n",
    "                    except Exception:\n",
    "                        continue\n",
    "            except KeyError:\n",
    "                continue\n",
    "            raw_text = json.dumps(obj, ensure_ascii=False)\n",
    "            cur.execute(\n",
    "                \"\"\"\n",
    "                INSERT INTO papers_raw (file_id, year, raw_json)\n",
    "                VALUES (?, ?, ?)\n",
    "                \"\"\",\n",
    "                (file_id, year, raw_text)\n",
    "            )\n",
    "    conn.commit()\n",
    "    conn.close()\n",
    "\n",
    "\n"
   ]
  },
  {
   "cell_type": "code",
   "execution_count": 2,
   "id": "c836ce8a",
   "metadata": {},
   "outputs": [],
   "source": [
    "# 2018\n",
    "loader(2018, 201800000, 201802761)\n",
    "\n",
    "# 2019\n",
    "loader(2019, 201900000, 201903081)\n",
    "\n",
    "# 2020\n",
    "loader(2020, 202000000, 202003392)\n",
    "\n",
    "# 2021\n",
    "loader(2021, 202100000, 202103814)\n",
    "\n",
    "# 2022\n",
    "loader(2022, 202200000, 202204243)\n",
    "\n",
    "# 2023\n",
    "loader(2023, 202300000, 202302889)"
   ]
  },
  {
   "cell_type": "markdown",
   "id": "3f79dfc4",
   "metadata": {},
   "source": [
    "# Run the first two part of the code first to create a Database and the reason for this is because its much faster than saving in a list or dictionary. (I don't have to load 5.63 GB from extracting the zip file)"
   ]
  },
  {
   "cell_type": "code",
   "execution_count": 3,
   "id": "c80c6e0d",
   "metadata": {},
   "outputs": [
    {
     "name": "stdout",
     "output_type": "stream",
     "text": [
      "(2762, 3)\n",
      "     file_id  year                                           raw_json\n",
      "0  201800000  2018  {\"abstracts-retrieval-response\": {\"item\": {\"ai...\n",
      "1  201800001  2018  {\"abstracts-retrieval-response\": {\"item\": {\"ai...\n",
      "2  201800002  2018  {\"abstracts-retrieval-response\": {\"item\": {\"ai...\n",
      "3  201800003  2018  {\"abstracts-retrieval-response\": {\"item\": {\"ai...\n",
      "4  201800004  2018  {\"abstracts-retrieval-response\": {\"item\": {\"ai...\n"
     ]
    }
   ],
   "source": [
    "conn = sqlite3.connect(\"scopus.db\")\n",
    "\n",
    "df_2018 = pd.read_sql_query(\n",
    "    \"\"\"\n",
    "    SELECT file_id, year, raw_json\n",
    "    FROM papers_raw\n",
    "    WHERE year = 2018\n",
    "    \"\"\",\n",
    "    conn\n",
    ")\n",
    "\n",
    "conn.close()\n",
    "\n",
    "print(df_2018.shape)\n",
    "print(df_2018.head())"
   ]
  }
 ],
 "metadata": {
  "kernelspec": {
   "display_name": "Python 3",
   "language": "python",
   "name": "python3"
  },
  "language_info": {
   "codemirror_mode": {
    "name": "ipython",
    "version": 3
   },
   "file_extension": ".py",
   "mimetype": "text/x-python",
   "name": "python",
   "nbconvert_exporter": "python",
   "pygments_lexer": "ipython3",
   "version": "3.12.3"
  }
 },
 "nbformat": 4,
 "nbformat_minor": 5
}
